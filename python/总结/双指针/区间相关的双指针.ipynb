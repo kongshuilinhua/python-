{
 "cells": [
  {
   "cell_type": "markdown",
   "metadata": {},
   "source": [
    "[小红的独特区间](https://ac.nowcoder.com/acm/contest/77526/G)       \n",
    "[air](https://codeforces.com/problemset/problem/1304/C)"
   ]
  }
 ],
 "metadata": {
  "language_info": {
   "name": "python"
  }
 },
 "nbformat": 4,
 "nbformat_minor": 2
}
