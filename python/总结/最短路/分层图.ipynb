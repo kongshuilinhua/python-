{
 "cells": [
  {
   "cell_type": "markdown",
   "metadata": {},
   "source": [
    "### 分层图：\n",
    "[卯酉东海道](https://ac.nowcoder.com/acm/contest/73810/H)       \n",
    "[蘑菇](https://ac.nowcoder.com/acm/contest/77231/E)     \n",
    "[G. Bicycles](https://codeforces.com/contest/1915/problem/G)"
   ]
  },
  {
   "cell_type": "markdown",
   "metadata": {},
   "source": [
    "### 拓扑序      \n",
    "拓扑序最短时间  题目：[高达](https://ac.nowcoder.com/acm/contest/77231/E)"
   ]
  }
 ],
 "metadata": {
  "language_info": {
   "name": "python"
  }
 },
 "nbformat": 4,
 "nbformat_minor": 2
}
