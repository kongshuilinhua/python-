{
 "cells": [
  {
   "cell_type": "markdown",
   "metadata": {},
   "source": [
    "[扫雷](https://ac.nowcoder.com/acm/contest/69117/D)             \n",
    "[abc345D](https://atcoder.jp/contests/abc345/tasks/abc345_d)"
   ]
  }
 ],
 "metadata": {
  "language_info": {
   "name": "python"
  }
 },
 "nbformat": 4,
 "nbformat_minor": 2
}
