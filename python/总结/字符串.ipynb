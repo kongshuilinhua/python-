{
 "cells": [
  {
   "cell_type": "markdown",
   "metadata": {},
   "source": [
    "## 括号匹配好题\n",
    "[C. Yuhao and a Parenthesis](https://codeforces.com/problemset/problem/1097/C)      \n"
   ]
  },
  {
   "cell_type": "markdown",
   "metadata": {},
   "source": [
    "## 字符串好题\n",
    "[C. Mark and His Unfinished Essay](https://codeforces.com/problemset/problem/1705/C)"
   ]
  }
 ],
 "metadata": {
  "language_info": {
   "name": "python"
  }
 },
 "nbformat": 4,
 "nbformat_minor": 2
}
