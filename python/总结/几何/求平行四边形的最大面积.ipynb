{
 "cells": [
  {
   "cell_type": "markdown",
   "metadata": {},
   "source": [
    "[小红的平行四边形](https://ac.nowcoder.com/acm/contest/82394/E)\n",
    "```python\n",
    "n = II()\n",
    "X = []\n",
    "Y = []\n",
    "for _ in range(n):\n",
    "    x, y = MII()\n",
    "    X.append(x)\n",
    "    Y.append(y)\n",
    "res = 0\n",
    "d = defaultdict(list)\n",
    "for i in range(n):\n",
    "    x1, y1 = X[i], Y[i]\n",
    "    for j in range(i):\n",
    "        x2, y2 = X[j], Y[j]\n",
    "        d[(x1 + x2, y1 + y2)].append((x1 - x2, y1 - y2))\n",
    "\n",
    "for x in d.values():\n",
    "    k = len(x)\n",
    "    for i in range(k):\n",
    "        dx1, dy1 = x[i]\n",
    "        for j in range(i):\n",
    "            dx2, dy2 = x[j]\n",
    "            res = max(res, abs(dx1 * dy2 - dx2 * dy1) // 2)\n",
    "if res == 0:\n",
    "    print(-1)\n",
    "else:\n",
    "    print(f\"{res}.0\")\n",
    "```"
   ]
  }
 ],
 "metadata": {
  "language_info": {
   "name": "python"
  }
 },
 "nbformat": 4,
 "nbformat_minor": 2
}
