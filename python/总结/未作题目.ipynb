{
 "cells": [
  {
   "cell_type": "markdown",
   "metadata": {},
   "source": [
    "[Filpper](https://codeforces.com/problemset/problem/1833/D)     \n",
    "[Rudolf and Subway](https://codeforces.com/contest/1941/problem/G)  \n",
    "[playoff](https://codeforces.com/problemset/problem/1767/D)     \n",
    "[F. Turtle Mission: Robot and the Earthquake](https://codeforces.com/contest/1933/problem/F)        \n",
    "[F. Rudolf and Imbalance](https://codeforces.com/contest/1941/problem/F)        \n",
    "[D - Swapping Puzzle](https://atcoder.jp/contests/abc332/tasks/abc332_d)        \n",
    "[C. Theofanis' Nightmare](https://codeforces.com/problemset/problem/1903/C)     \n",
    "[C. Infected Tree](https://codeforces.com/problemset/problem/1689/C)        \n",
    "[C. Messenger in MAC](https://codeforces.com/contest/1935/problem/C)"
   ]
  }
 ],
 "metadata": {
  "language_info": {
   "name": "python"
  }
 },
 "nbformat": 4,
 "nbformat_minor": 2
}
