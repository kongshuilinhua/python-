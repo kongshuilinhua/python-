{
 "cells": [
  {
   "cell_type": "markdown",
   "metadata": {},
   "source": [
    "#### 描述：求满足题目要求的方案数，\n",
    "#### 思路：可以使用DP，但是直接求可能不好求，可以使用容斥原理求不满足的方案\n"
   ]
  },
  {
   "cell_type": "markdown",
   "metadata": {},
   "source": [
    "##### 例1：https://ac.nowcoder.com/acm/contest/71593/D\n",
    "题目：有若干红色和蓝色硬币，硬币有面值（都不相同），求至少有一个红和一个蓝的总面值为p的方案数。             \n",
    "思路：一般来说求满足价值为p的方案数一看就是背包类型DP，但是这题还有至少一个红和一个蓝的限制，不是很好求         \n",
    "因此从容斥求，ans = 红蓝任选的方案数 - 只选红的方案数 - 只选蓝的方案数"
   ]
  }
 ],
 "metadata": {
  "language_info": {
   "name": "python"
  }
 },
 "nbformat": 4,
 "nbformat_minor": 2
}
