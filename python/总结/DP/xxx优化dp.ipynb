{
 "cells": [
  {
   "cell_type": "markdown",
   "metadata": {},
   "source": [
    "前缀和优化DP\n",
    "[Candies](https://www.luogu.com.cn/problem/AT_dp_m)\n",
    "```python3\n",
    "def solve():\n",
    "    n, m = MII()\n",
    "    a = LII()\n",
    "    # 前i个分了j个糖的方案数\n",
    "    f = [[0] * (m + 1) for _ in range(n + 1)]\n",
    "    f[0][0] = 1\n",
    "    sum = [0] * (m + 5)\n",
    "    s = list(accumulate(a))\n",
    "    for i in range(1, n + 1):\n",
    "        sum[0] = f[i - 1][0]\n",
    "        for j in range(1, m + 1):\n",
    "            sum[j] = f[i - 1][j] + sum[j - 1]\n",
    "        #print(sum)\n",
    "        for j in range(m + 1):\n",
    "            f[i][j] = sum[j] - (sum[j - a[i - 1] - 1] if j - a[i - 1] >= 0 else 0)\n",
    "            f[i][j] %= mod\n",
    "    print(f[n][m])\n",
    "    return\n",
    "```\n",
    "\n",
    "删除数组的最少操作次数\n",
    "[相依](https://ac.nowcoder.com/acm/contest/83687/E)"
   ]
  }
 ],
 "metadata": {
  "language_info": {
   "name": "python"
  }
 },
 "nbformat": 4,
 "nbformat_minor": 2
}
