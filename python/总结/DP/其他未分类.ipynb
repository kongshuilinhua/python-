{
 "cells": [
  {
   "cell_type": "markdown",
   "metadata": {},
   "source": [
    "[ACm](https://codeforces.com/problemset/problem/414/B)      \n",
    "[Ceil Divisions](https://codeforces.com/contest/1519/problem/D)     \n",
    "[E. Making Anti-Palindromes](https://codeforces.com/contest/1822/problem/E)     \n",
    "[C. Longest Simple Cycle](https://codeforces.com/contest/1476/problem/C)  线段围成的最大环      \n",
    "[C. Unstable String](https://codeforces.com/contest/1535/problem/C) :如果我们可以将子串其中的 ? 换为 1 或 0使得相邻数都不相同，那么这个子串是好的，求多少个好子串"
   ]
  }
 ],
 "metadata": {
  "language_info": {
   "name": "python"
  }
 },
 "nbformat": 4,
 "nbformat_minor": 2
}
