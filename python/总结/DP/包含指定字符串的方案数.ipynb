{
 "cells": [
  {
   "cell_type": "markdown",
   "metadata": {},
   "source": [
    "[小红漂亮串2](https://ac.nowcoder.com/acm/contest/72779/D)"
   ]
  }
 ],
 "metadata": {
  "language_info": {
   "name": "python"
  }
 },
 "nbformat": 4,
 "nbformat_minor": 2
}
