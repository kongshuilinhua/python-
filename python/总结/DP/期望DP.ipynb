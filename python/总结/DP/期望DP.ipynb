{
 "cells": [
  {
   "cell_type": "markdown",
   "metadata": {},
   "source": [
    "[天气预报](https://ac.nowcoder.com/acm/contest/67934/J)     \n",
    "[学习](https://ac.nowcoder.com/acm/contest/76681/J)         \n",
    "[puzzles](https://codeforces.com/problemset/problem/696/B)"
   ]
  }
 ],
 "metadata": {
  "language_info": {
   "name": "python"
  }
 },
 "nbformat": 4,
 "nbformat_minor": 2
}
