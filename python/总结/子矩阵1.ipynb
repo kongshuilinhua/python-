{
 "cells": [
  {
   "cell_type": "markdown",
   "metadata": {},
   "source": [
    "# LC1277  1504 1727  84  85"
   ]
  },
  {
   "cell_type": "markdown",
   "metadata": {},
   "source": [
    "## 柱状图中最大的矩形、全为1的子矩阵，面积最大的子矩阵等题目\n",
    "####  思路：记录每个元素上面的连续1的个数，然后用单调栈求最近的小于等于自己的元素 \n",
    "典型的85题代码          \n",
    "```\n",
    "class Solution:\n",
    "    def largestRectangleArea(self, heights: List[int]) -> int:\n",
    "        st = [0]  # 递增栈\n",
    "        res = 0\n",
    "        h = [0] + heights + [0]\n",
    "        n = len(h)\n",
    "        for i in range(1, n):\n",
    "            x = h[i]\n",
    "            while st and x < h[st[-1]]:\n",
    "                cur_h = h[st.pop()]\n",
    "                cur_w = i - st[-1] - 1\n",
    "                res = max(res, cur_h * cur_w)\n",
    "            st.append(i)\n",
    "        return res\n",
    "```"
   ]
  }
 ],
 "metadata": {
  "language_info": {
   "name": "python"
  }
 },
 "nbformat": 4,
 "nbformat_minor": 2
}
