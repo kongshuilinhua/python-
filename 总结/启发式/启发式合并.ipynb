{
 "cells": [
  {
   "cell_type": "markdown",
   "metadata": {},
   "source": [
    "[多重映射](https://ac.nowcoder.com/acm/contest/75771/E)         \n",
    "[[ABC329F] Colored Ball](https://www.luogu.com.cn/problem/AT_abc329_f)      \n",
    "[缝合怪的作品](https://ac.nowcoder.com/acm/contest/80027/L) ans1:把所有x变成y，把s[i]改成t，需要拆点操作 ans2：也可以倒序操作"
   ]
  }
 ],
 "metadata": {
  "language_info": {
   "name": "python"
  }
 },
 "nbformat": 4,
 "nbformat_minor": 2
}
