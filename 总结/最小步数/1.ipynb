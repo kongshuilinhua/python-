{
 "cells": [
  {
   "cell_type": "markdown",
   "metadata": {},
   "source": [
    "## 通过某些特定的操作， 从一个地方到另一个地方(x -> y)"
   ]
  },
  {
   "cell_type": "markdown",
   "metadata": {},
   "source": [
    "一般有两种做法，BFS和记忆化搜索。               \n",
    "BFS的思路类似建图跑最短路，这种做法相对复杂一点点，但是很通用。  \n",
    "记忆化搜索一般用于那些满足特定跳跃条件的题，例如能被2整除就可以一次跳很远          "
   ]
  },
  {
   "cell_type": "markdown",
   "metadata": {},
   "source": [
    "例如：       \n",
    "[2998. 使 X 和 Y 相等的最少操作次数](https://leetcode.cn/problems/minimum-number-of-operations-to-make-x-and-y-equal/description/)            \n",
    "[1553. 吃掉 N 个橘子的最少天数](https://leetcode.cn/problems/minimum-number-of-days-to-eat-n-oranges/)      \n",
    "[LCP 09. 最小跳跃次数](https://leetcode.cn/problems/zui-xiao-tiao-yue-ci-shu/)          \n",
    "反向思考也是常用的方法：        \n",
    "[991坏了的计算器](https://leetcode.cn/problems/broken-calculator/description/)"
   ]
  },
  {
   "cell_type": "markdown",
   "metadata": {},
   "source": [
    "这两题都是可以用记忆化搜索的，很好写。但是有些题只能用BFS写"
   ]
  },
  {
   "cell_type": "markdown",
   "metadata": {},
   "source": [
    "例如:       \n",
    "[2059. 转化数字的最小运算数](https://leetcode.cn/problems/minimum-operations-to-convert-number/)        \n",
    "[1100. 抓住那头牛](https://www.acwing.com/problem/content/description/1102/)        \n",
    "[LCP 20. 快速公交](https://leetcode.cn/problems/meChtZ/description/)"
   ]
  }
 ],
 "metadata": {
  "language_info": {
   "name": "python"
  }
 },
 "nbformat": 4,
 "nbformat_minor": 2
}
