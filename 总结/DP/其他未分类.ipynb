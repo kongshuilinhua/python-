{
 "cells": [
  {
   "cell_type": "markdown",
   "metadata": {},
   "source": [
    "[ACm](https://codeforces.com/problemset/problem/414/B)      \n",
    "[Ceil Divisions](https://codeforces.com/contest/1519/problem/D)     \n",
    "[E. Making Anti-Palindromes](https://codeforces.com/contest/1822/problem/E)"
   ]
  }
 ],
 "metadata": {
  "language_info": {
   "name": "python"
  }
 },
 "nbformat": 4,
 "nbformat_minor": 2
}
