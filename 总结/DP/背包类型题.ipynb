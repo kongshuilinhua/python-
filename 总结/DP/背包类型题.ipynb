{
 "cells": [
  {
   "cell_type": "markdown",
   "metadata": {},
   "source": [
    "可以转化成01背包问题的问题\n"
   ]
  },
  {
   "cell_type": "markdown",
   "metadata": {},
   "source": [
    "多次查询，给定背包容量，求最大的背包能装入的价值\n",
    "### https://ac.nowcoder.com/acm/contest/73810/I\n",
    "```python\n",
    "n = II()\n",
    "w, v = [0] * (n + 1), [0] * (n + 1)\n",
    "N = int(1e5 + 10)\n",
    "f = [inf] * (N + 10)\n",
    "f[0] = 0\n",
    "for i in range(1, n + 1):\n",
    "    w[i], v[i] = MII()\n",
    "\n",
    "# N 是价值对应最少的重量\n",
    "for i in range(1, n + 1):    # 倒着枚举                \n",
    "    for j in range(N + 5, v[i] - 1, -1):\n",
    "        f[j] = min(f[j], f[j - v[i]] + w[i])\n",
    "\n",
    "for i in range(N, -1, -1):   # f[i] 表示考虑了所有物品得到的价值的最小重量\n",
    "    f[i] = min(f[i], f[i + 1])\n",
    "t = II()\n",
    "\n",
    "for _ in range(t):\n",
    "    x = II()\n",
    "    print(bisect.bisect_right(f, x) - 1)\n",
    "```"
   ]
  }
 ],
 "metadata": {
  "language_info": {
   "name": "python"
  }
 },
 "nbformat": 4,
 "nbformat_minor": 2
}
