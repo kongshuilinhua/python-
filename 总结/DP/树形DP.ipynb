{
 "cells": [
  {
   "cell_type": "markdown",
   "metadata": {},
   "source": [
    "[834. 树中距离之和](https://leetcode.cn/problems/sum-of-distances-in-tree/description/)         \n",
    "类似题 :[E - Minimize Sum of Distances](https://atcoder.jp/contests/abc348/tasks/abc348_e)   \n",
    "思路：  \n",
    "点i到其他所有点的距离之和:x到子节点y  到非y的子树的节点的距离都加1，为n - size[y], 到y的子树的节点距离都减1，为-size[y]     \n",
    "因此转移方为res[y] = res[x] + n - 2 * size[y]\n",
    "``` python\n",
    "class Solution:\n",
    "    def sumOfDistancesInTree(self, n: int, edges: List[List[int]]) -> List[int]:\n",
    "        g = [[] for _ in range(n)]\n",
    "        for x, y in edges:\n",
    "            g[x].append(y)\n",
    "            g[y].append(x)\n",
    "        size = [1] * n\n",
    "        res = [0] * n\n",
    "        def dfs(x, fa, depth):\n",
    "            res[0] += depth\n",
    "            for y in g[x]:\n",
    "                if y == fa:\n",
    "                    continue\n",
    "                dfs(y, x, depth + 1)\n",
    "                size[x] += size[y]\n",
    "        dfs(0, -1, 0)\n",
    "        def reroot(x, fa):\n",
    "            for y in g[x]:\n",
    "                if y == fa:\n",
    "                    continue\n",
    "                res[y] = res[x] + n - 2 * size[y]\n",
    "                reroot(y, x)\n",
    "        reroot(0, -1)\n",
    "        return res\n",
    "```\n",
    "[小红树](https://ac.nowcoder.com/acm/contest/72266/D)       \n",
    "[小红的树上染色](https://ac.nowcoder.com/acm/problem/257808)        "
   ]
  }
 ],
 "metadata": {
  "language_info": {
   "name": "python"
  }
 },
 "nbformat": 4,
 "nbformat_minor": 2
}
