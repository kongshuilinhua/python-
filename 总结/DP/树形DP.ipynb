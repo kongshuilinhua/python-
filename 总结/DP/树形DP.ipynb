{
 "cells": [
  {
   "cell_type": "markdown",
   "metadata": {},
   "source": [
    "[小红树](https://ac.nowcoder.com/acm/contest/72266/D)       \n",
    "[小红的树上染色](https://ac.nowcoder.com/acm/problem/257808)"
   ]
  }
 ],
 "metadata": {
  "language_info": {
   "name": "python"
  }
 },
 "nbformat": 4,
 "nbformat_minor": 2
}
