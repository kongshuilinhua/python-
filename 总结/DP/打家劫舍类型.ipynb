{
 "cells": [
  {
   "cell_type": "markdown",
   "metadata": {},
   "source": [
    "### 这种题目往往是在长度为n的数组中选择若干个数，使得价值最大。限制是不能选相邻位置的数："
   ]
  },
  {
   "cell_type": "markdown",
   "metadata": {},
   "source": [
    "\n",
    "> Problem: [198. 打家劫舍](https://leetcode.cn/problems/house-robber/description/)\n",
    "\n",
    "> 思路1：线性DP，f[i]表示偷了前i家可以得到的最大价值\n",
    "```Python3 []\n",
    "class Solution:\n",
    "    def rob(self, nums: List[int]) -> int:\n",
    "        n = len(nums)\n",
    "        f = [0] * (n + 5)\n",
    "        for i, x in enumerate(nums):\n",
    "            f[i] = max(f[i - 1], f[i - 2] + x)\n",
    "        return f[n - 1]\n",
    "```\n",
    "> 思路2:状态机：0：不选第i个，1：选第i个\n",
    "```python3\n",
    "class Solution:\n",
    "    def rob(self, nums: List[int]) -> int:\n",
    "        n = len(nums)\n",
    "        f = [[0] * 2 for _ in range(n + 1)]\n",
    "        for i, x in enumerate(nums):\n",
    "            f[i + 1][0] = max(f[i])\n",
    "            f[i + 1][1] = f[i][0] + x\n",
    "        return max(f[-1])\n",
    "```\n",
    "\n",
    "### 其他类似题目：      \n",
    "\n",
    "> Problem: [740. 删除并获得点数](https://leetcode.cn/problems/delete-and-earn/description/)     \n",
    "> Problem: [2320. 统计放置房子的方式数](https://leetcode.cn/problems/count-number-of-ways-to-place-houses/description/)     \n",
    "> Problem: [213. 打家劫舍 II](https://leetcode.cn/problems/house-robber-ii/description/)        \n",
    "> Problem: [1388. 3n 块披萨](https://leetcode.cn/problems/pizza-with-3n-slices/description/)\n",
    "\n",
    "> 其中打家劫舍II要求连成一圈，即首位不能同时选，那么只需要分选第一个和不选第一个两种情况分别DP一下取最大值即可\n"
   ]
  }
 ],
 "metadata": {
  "language_info": {
   "name": "python"
  }
 },
 "nbformat": 4,
 "nbformat_minor": 2
}
