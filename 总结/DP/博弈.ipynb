{
 "cells": [
  {
   "cell_type": "markdown",
   "metadata": {},
   "source": [
    "[小红又战小紫](https://ac.nowcoder.com/acm/contest/73422/F)"
   ]
  }
 ],
 "metadata": {
  "language_info": {
   "name": "python"
  }
 },
 "nbformat": 4,
 "nbformat_minor": 2
}
