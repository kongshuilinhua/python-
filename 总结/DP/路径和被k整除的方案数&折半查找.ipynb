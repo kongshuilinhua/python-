{
 "cells": [
  {
   "cell_type": "markdown",
   "metadata": {},
   "source": [
    "[2435. 矩阵中和能被 K 整除的路径](https://leetcode.cn/problems/paths-in-matrix-whose-sum-is-divisible-by-k/solutions/1878910/dong-tai-gui-hua-pythonjavacgo-by-endles-94wq/)"
   ]
  },
  {
   "cell_type": "markdown",
   "metadata": {},
   "source": [
    "折半查找，上面连接评论区下很多\n",
    "[805数组的均值分割](https://leetcode.cn/problems/split-array-with-same-average/description/)"
   ]
  }
 ],
 "metadata": {
  "language_info": {
   "name": "python"
  }
 },
 "nbformat": 4,
 "nbformat_minor": 2
}
