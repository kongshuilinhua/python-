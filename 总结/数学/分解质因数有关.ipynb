{
 "cells": [
  {
   "cell_type": "markdown",
   "metadata": {},
   "source": [
    "[平方数](https://ac.nowcoder.com/acm/contest/73810/K)       \n",
    "[三元组](https://ac.nowcoder.com/acm/contest/77526/B)       \n",
    "[阶乘之和](https://ac.nowcoder.com/acm/contest/73799/D)     \n",
    "[pairs](https://www.luogu.com.cn/problem/CF1541B)       \n",
    "[D - Square Pair](https://atcoder.jp/contests/abc342/tasks/abc342_d)"
   ]
  },
  {
   "cell_type": "markdown",
   "metadata": {},
   "source": [
    "## 异或基\n",
    "[C. Square Subsets](https://codeforces.com/problemset/problem/895/C)"
   ]
  }
 ],
 "metadata": {
  "language_info": {
   "name": "python"
  }
 },
 "nbformat": 4,
 "nbformat_minor": 2
}
