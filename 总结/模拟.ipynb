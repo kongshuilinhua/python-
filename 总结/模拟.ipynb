{
 "cells": [
  {
   "cell_type": "markdown",
   "metadata": {},
   "source": [
    "[B. Spreadsheets](https://codeforces.com/problemset/problem/1/B)  模拟两种字符串转换模拟"
   ]
  }
 ],
 "metadata": {
  "language_info": {
   "name": "python"
  }
 },
 "nbformat": 4,
 "nbformat_minor": 2
}
