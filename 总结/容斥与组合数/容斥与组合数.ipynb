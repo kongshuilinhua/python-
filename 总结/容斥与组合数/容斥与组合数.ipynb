{
 "cells": [
  {
   "cell_type": "markdown",
   "metadata": {},
   "source": [
    "[子序列权值和](https://ac.nowcoder.com/acm/contest/76133/F)"
   ]
  },
  {
   "cell_type": "markdown",
   "metadata": {},
   "source": [
    "## 鸽巢原理:[coloring](https://codeforces.com/problemset/problem/1774/B)"
   ]
  }
 ],
 "metadata": {
  "language_info": {
   "name": "python"
  }
 },
 "nbformat": 4,
 "nbformat_minor": 2
}
