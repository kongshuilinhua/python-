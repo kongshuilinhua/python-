{
 "cells": [
  {
   "cell_type": "markdown",
   "metadata": {},
   "source": [
    "[子序列权值和](https://ac.nowcoder.com/acm/contest/76133/F)"
   ]
  },
  {
   "cell_type": "markdown",
   "metadata": {},
   "source": [
    "## 鸽巢原理:[coloring](https://codeforces.com/problemset/problem/1774/B)"
   ]
  },
  {
   "cell_type": "markdown",
   "metadata": {},
   "source": [
    "## 组合数：把x分解成长度为y的序列的方案数(插板法)\n",
    "[CF893E](https://www.luogu.com.cn/problem/CF893E)       \n",
    "[祥子拆团](https://ac.nowcoder.com/acm/contest/84444/F)"
   ]
  }
 ],
 "metadata": {
  "language_info": {
   "name": "python"
  }
 },
 "nbformat": 4,
 "nbformat_minor": 2
}
