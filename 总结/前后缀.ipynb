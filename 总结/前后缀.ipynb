{
 "cells": [
  {
   "cell_type": "markdown",
   "metadata": {},
   "source": [
    "[E. Air Conditioners](https://codeforces.com/problemset/problem/1547/E)     \n",
    "[Program    ](https://codeforces.com/contest/1473/problem/D)        \n",
    "[D. Running Miles](https://codeforces.com/problemset/problem/1826/D)        \n",
    "[D. Journey](https://codeforces.com/contest/1476/problem/D)     \n",
    "[A. Anu Has a Function](https://codeforces.com/problemset/problem/1299/A):位运算转化# x | y - y = x - x & y = x & (~y)      \n",
    "[C. 1D Sokoban](https://codeforces.com/contest/1494/problem/C)：一维推箱子游戏，最多可以把多少个箱子放到对应的位置上"
   ]
  }
 ],
 "metadata": {
  "language_info": {
   "name": "python"
  }
 },
 "nbformat": 4,
 "nbformat_minor": 2
}
