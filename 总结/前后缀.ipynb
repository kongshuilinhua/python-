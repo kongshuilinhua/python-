{
 "cells": [
  {
   "cell_type": "markdown",
   "metadata": {},
   "source": [
    "[E. Air Conditioners](https://codeforces.com/problemset/problem/1547/E)     \n",
    "[Program    ](https://codeforces.com/contest/1473/problem/D)        \n",
    "[D. Running Miles](https://codeforces.com/problemset/problem/1826/D)        \n",
    "[D. Journey](https://codeforces.com/contest/1476/problem/D)"
   ]
  }
 ],
 "metadata": {
  "language_info": {
   "name": "python"
  }
 },
 "nbformat": 4,
 "nbformat_minor": 2
}
