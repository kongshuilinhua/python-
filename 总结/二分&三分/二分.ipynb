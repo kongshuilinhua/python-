{
 "cells": [
  {
   "cell_type": "markdown",
   "metadata": {},
   "source": [
    "三分：合成物品个数：\n",
    "[贝贝](https://ac.nowcoder.com/acm/contest/73810/E)     \n",
    "## 二分好题\n",
    "[To Become Max](https://codeforces.com/problemset/problem/1856/C)       \n",
    "[D. Wooden Toy Festival](https://codeforces.com/problemset/problem/1840/D)"
   ]
  }
 ],
 "metadata": {
  "language_info": {
   "name": "python"
  }
 },
 "nbformat": 4,
 "nbformat_minor": 2
}
