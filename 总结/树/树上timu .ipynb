{
 "cells": [
  {
   "cell_type": "markdown",
   "metadata": {},
   "source": [
    "[绝妙的平衡](https://ac.nowcoder.com/acm/contest/67746/J)"
   ]
  }
 ],
 "metadata": {
  "language_info": {
   "name": "python"
  }
 },
 "nbformat": 4,
 "nbformat_minor": 2
}
