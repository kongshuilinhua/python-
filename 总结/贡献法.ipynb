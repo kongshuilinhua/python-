{
 "cells": [
  {
   "cell_type": "markdown",
   "metadata": {},
   "source": [
    "[小美的区间异或和](https://ac.nowcoder.com/acm/contest/65051/D)  她想知道该数组的所有连续子数组的权值和是多少,一个数组的权值为：数组中任选两个数的异或之和      \n",
    "[Bingbong的幻想世界](https://ac.nowcoder.com/acm/contest/78807/F)\n",
    "\n",
    "``` python\n",
    "def solve():\n",
    "    n = II()\n",
    "    a = LII()\n",
    "    res = 0\n",
    "    for i in range(21):\n",
    "        cnt0 = cnt1 = 0\n",
    "        for j, x in enumerate(a, 1):\n",
    "            if x >> i & 1:\n",
    "                res += cnt0 * (n - j + 1) * (1 << i) * 2\n",
    "                cnt1 += j\n",
    "            else:\n",
    "                res += cnt1 * (n - j + 1) * (1 << i) * 2\n",
    "                cnt0 += j\n",
    "        res %= mod\n",
    "    print(res)\n",
    "\n",
    "    return\n",
    "```"
   ]
  }
 ],
 "metadata": {
  "language_info": {
   "name": "python"
  }
 },
 "nbformat": 4,
 "nbformat_minor": 2
}
