{
 "cells": [
  {
   "cell_type": "markdown",
   "metadata": {},
   "source": [
    "[无向图构造](https://ac.nowcoder.com/acm/contest/76133/E)       \n",
    "[Complementary XOR](https://codeforces.com/problemset/problem/1750/C)       \n",
    "[No More Inversions](https://codeforces.com/contest/1473/problem/C)     \n",
    "[Sum on Subarrays](https://codeforces.com/problemset/problem/1809/C)        \n",
    "[Game With Array](https://codeforces.com/problemset/problem/1355/D)     \n",
    "[Ceil Divisions](https://codeforces.com/contest/1469/problem/D)"
   ]
  }
 ],
 "metadata": {
  "language_info": {
   "name": "python"
  }
 },
 "nbformat": 4,
 "nbformat_minor": 2
}
