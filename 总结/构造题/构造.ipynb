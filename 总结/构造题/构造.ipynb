{
 "cells": [
  {
   "cell_type": "markdown",
   "metadata": {},
   "source": [
    "[无向图构造](https://ac.nowcoder.com/acm/contest/76133/E)       \n",
    "[Complementary XOR](https://codeforces.com/problemset/problem/1750/C)       \n",
    "[No More Inversions](https://codeforces.com/contest/1473/problem/C)     \n",
    "[Sum on Subarrays](https://codeforces.com/problemset/problem/1809/C)        \n",
    "[Game With Array](https://codeforces.com/problemset/problem/1355/D)     \n",
    "[Ceil Divisions](https://codeforces.com/contest/1469/problem/D)\n",
    "[D. Min Cost String](https://codeforces.com/contest/1511/problem/D):构造长度为n的字符串，并且$s_i=s_j$和$s_{i+1}=s_{j+1}$的索引对的个数尽量少。            \n",
    "[B. Informatics in MAC](https://codeforces.com/contest/1935/problem/B).能否把数组a分成k段使得他们的MEX相等      \n",
    "[C. Find B](https://codeforces.com/contest/1923/problem/C)  :对a多次查询是否有一个可以构造一个区间使得$a_i$!=$b_i$并且他们的区间和相同      \n",
    "[C. Minimum Ties](https://codeforces.com/contest/1487/problem/C) :n个球队之间两两比赛，让所有队伍的最终分数一样但是平局尽量少，给出方案"
   ]
  }
 ],
 "metadata": {
  "language_info": {
   "name": "python"
  }
 },
 "nbformat": 4,
 "nbformat_minor": 2
}
