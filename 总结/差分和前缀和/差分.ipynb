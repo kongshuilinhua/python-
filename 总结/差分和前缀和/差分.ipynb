{
 "cells": [
  {
   "cell_type": "markdown",
   "metadata": {},
   "source": [
    "#### 题目描述：每次操作可以给一段区间加1, 问最少多少次操作能够得到目标数组\n",
    "#### 解题思路：由目标数组逆操作得到差分数组。取正数和复数的总和的绝对值的最大值\n",
    "#### 例题：https://www.acwing.com/problem/content/4265/\n",
    "```python\n",
    "def solve():\n",
    "    n = II()\n",
    "    a = LII()\n",
    "    b = LII()\n",
    "    c = []\n",
    "    for x, y in zip(a, b):\n",
    "        c.append(x - y)\n",
    "    for i in range(n - 1, 0, -1):\n",
    "        c[i] -= c[i - 1]\n",
    "    r1 = sum(x for x in c if x > 0)\n",
    "    r2 = -sum(x for x in c if x < 0)\n",
    "    print(max(r1, r2))\n",
    "    \n",
    "```\n"
   ]
  }
 ],
 "metadata": {
  "language_info": {
   "name": "python"
  }
 },
 "nbformat": 4,
 "nbformat_minor": 2
}
