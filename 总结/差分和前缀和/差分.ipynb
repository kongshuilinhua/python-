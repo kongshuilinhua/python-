{
 "cells": [
  {
   "cell_type": "markdown",
   "metadata": {},
   "source": [
    "#### 题目描述：每次操作可以给一段区间加1, 问最少多少次操作能够得到目标数组\n",
    "#### 解题思路：由目标数组逆操作得到差分数组。取正数和复数的总和的绝对值的最大值\n",
    "#### 例题：https://www.acwing.com/problem/content/4265/\n",
    "```python\n",
    "def solve():\n",
    "    n = II()\n",
    "    a = LII()\n",
    "    b = LII()\n",
    "    c = []\n",
    "    for x, y in zip(a, b):\n",
    "        c.append(x - y)\n",
    "    for i in range(n - 1, 0, -1):\n",
    "        c[i] -= c[i - 1]\n",
    "    r1 = sum(x for x in c if x > 0)\n",
    "    r2 = -sum(x for x in c if x < 0)\n",
    "    print(max(r1, r2))\n",
    "    \n",
    "```\n"
   ]
  },
  {
   "cell_type": "markdown",
   "metadata": {},
   "source": [
    "[D. Sum of XOR Functions](https://codeforces.com/problemset/problem/1879/D)\n",
    "```python\n",
    "def solve(n, a):\n",
    "    res = 0\n",
    "    for j in range(32):\n",
    "        cnt = [0] * 2\n",
    "        cnt[0] = 1\n",
    "        sum_cnt = [0] * 2\n",
    "        v = 1 << j\n",
    "        s = 0\n",
    "        for i, x in enumerate(a, 1):    \n",
    "            s ^= (x >> j & 1)\n",
    "            y = s ^ 1\n",
    "            res += (cnt[y] * i - sum_cnt[y]) * v\n",
    "            cnt[s] += 1\n",
    "            sum_cnt[s] += i\n",
    "        res %= mod\n",
    "    print(res)\n",
    "    return\n",
    "\n",
    "```"
   ]
  },
  {
   "cell_type": "markdown",
   "metadata": {},
   "source": [
    "[种树](https://ac.nowcoder.com/acm/contest/97303/J) 二次前缀和得到i数组"
   ]
  }
 ],
 "metadata": {
  "language_info": {
   "name": "python"
  }
 },
 "nbformat": 4,
 "nbformat_minor": 2
}
