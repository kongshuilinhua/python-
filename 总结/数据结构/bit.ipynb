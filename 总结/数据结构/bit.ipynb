{
 "cells": [
  {
   "cell_type": "markdown",
   "metadata": {},
   "source": [
    "树状数组：\n",
    "[好子串查询](https://ac.nowcoder.com/acm/contest/77526/G)       \n",
    "链表:\n",
    "[整数删除](https://www.acwing.com/problem/content/4964/)        \n",
    "[E - Insert or Erase](https://atcoder.jp/contests/abc344/tasks/abc344_e)   \n"
   ]
  },
  {
   "cell_type": "markdown",
   "metadata": {},
   "source": [
    "并查集      \n",
    "[E. Split Into Two Sets](https://codeforces.com/problemset/problem/1702/E)          \n",
    "  \n",
    "都是通过并查集将无需操作的位置指向下一个位置，节省扫描时间：        \n",
    "[小红不想做模拟题](https://ac.nowcoder.com/acm/contest/78904/F)     \n",
    "[新春漫步](https://ac.nowcoder.com/acm/contest/73955/G)         \n",
    "[D. Vessels](https://codeforces.com/problemset/problem/371/D)      \n",
    "[P4145 上帝造题的七分钟 2 / 花神游历各国](https://www.luogu.com.cn/problem/P4145) # 区间开方运算和查询区间和，并查集配合树状数组使用"
   ]
  }
 ],
 "metadata": {
  "language_info": {
   "name": "python"
  }
 },
 "nbformat": 4,
 "nbformat_minor": 2
}
