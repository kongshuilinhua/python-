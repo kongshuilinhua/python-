{
 "cells": [
  {
   "cell_type": "markdown",
   "metadata": {},
   "source": [
    "树状数组：\n",
    "[好子串查询](https://ac.nowcoder.com/acm/contest/77526/G)       \n",
    "链表:\n",
    "[整数删除](https://www.acwing.com/problem/content/4964/)        \n",
    "[E - Insert or Erase](https://atcoder.jp/contests/abc344/tasks/abc344_e)   \n",
    "并查集\n",
    "[E. Split Into Two Sets](https://codeforces.com/problemset/problem/1702/E)"
   ]
  }
 ],
 "metadata": {
  "language_info": {
   "name": "python"
  }
 },
 "nbformat": 4,
 "nbformat_minor": 2
}
