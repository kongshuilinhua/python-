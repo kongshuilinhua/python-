{
 "cells": [
  {
   "cell_type": "markdown",
   "metadata": {},
   "source": [
    "[不想想背景的GCD](https://ac.nowcoder.com/acm/contest/71512/H)  \n",
    "[E1. Divisible Numbers (easy version)](https://codeforces.com/contest/1744/problem/E1)  x * y % (a * b)=0  给定x,y求[l, r]范围内是否有a和b满足柿子      \n",
    "两个用更相减损术化简的题目:gcd(x, y) = gcd(y - x, y)        \n",
    "[Row GCD](https://www.luogu.com.cn/problem/CF1458A) \n",
    "[P10031 「Cfz Round 3」Xor with Gcd](https://www.luogu.com.cn/problem/P10031)"
   ]
  }
 ],
 "metadata": {
  "language_info": {
   "name": "python"
  }
 },
 "nbformat": 4,
 "nbformat_minor": 2
}
