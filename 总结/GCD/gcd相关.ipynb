{
 "cells": [
  {
   "cell_type": "markdown",
   "metadata": {},
   "source": [
    "[不想想背景的GCD](https://ac.nowcoder.com/acm/contest/71512/H)"
   ]
  }
 ],
 "metadata": {
  "language_info": {
   "name": "python"
  }
 },
 "nbformat": 4,
 "nbformat_minor": 2
}
