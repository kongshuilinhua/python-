{
 "cells": [
  {
   "cell_type": "markdown",
   "metadata": {},
   "source": [
    "[不想想背景的GCD](https://ac.nowcoder.com/acm/contest/71512/H)  \n",
    "[E1. Divisible Numbers (easy version)](https://codeforces.com/contest/1744/problem/E1)  x * y % (a * b)=0  给定x,y求[l, r]范围内是否有a和b满足柿子"
   ]
  }
 ],
 "metadata": {
  "language_info": {
   "name": "python"
  }
 },
 "nbformat": 4,
 "nbformat_minor": 2
}
