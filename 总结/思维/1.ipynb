{
 "cells": [
  {
   "cell_type": "markdown",
   "metadata": {},
   "source": [
    "[Dug](https://codeforces.com/contest/1463/problem/A)        \n",
    "[PP](https://codeforces.com/problemset/problem/359/B)       \n",
    "[D. Turtle Tenacity: Continual Mods](https://codeforces.com/contest/1933/problem/D)     \n",
    "[C. Maximum splitting](https://codeforces.com/problemset/problem/870/C)     \n",
    "[E. Living Sequence](https://codeforces.com/problemset/problem/1811/E)  :不包含4的数字序列，转成九进制做"
   ]
  },
  {
   "cell_type": "markdown",
   "metadata": {},
   "source": [
    "[荷香竟深湎，永待盛夏陌](https://ac.nowcoder.com/acm/contest/77922/A):四个石头围成一圈，攻击一个石头这个石头和左右石头都会(x+1)%4,求使得四个石头相同的一个方案"
   ]
  },
  {
   "cell_type": "markdown",
   "metadata": {},
   "source": [
    "[弹性碰撞](https://ac.nowcoder.com/acm/contest/97487/F)\n",
    "小球碰撞模拟，把L*2可以O1求解"
   ]
  }
 ],
 "metadata": {
  "language_info": {
   "name": "python"
  }
 },
 "nbformat": 4,
 "nbformat_minor": 2
}
