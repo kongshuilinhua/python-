{
 "cells": [
  {
   "cell_type": "markdown",
   "metadata": {},
   "source": [
    "[Dug](https://codeforces.com/contest/1463/problem/A)        \n",
    "[PP](https://codeforces.com/problemset/problem/359/B)       \n",
    "[D. Turtle Tenacity: Continual Mods](https://codeforces.com/contest/1933/problem/D)     \n",
    "[C. Maximum splitting](https://codeforces.com/problemset/problem/870/C)"
   ]
  }
 ],
 "metadata": {
  "language_info": {
   "name": "python"
  }
 },
 "nbformat": 4,
 "nbformat_minor": 2
}
